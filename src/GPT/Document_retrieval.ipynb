{
  "nbformat": 4,
  "nbformat_minor": 0,
  "metadata": {
    "colab": {
      "provenance": []
    },
    "kernelspec": {
      "name": "python3",
      "display_name": "Python 3"
    },
    "language_info": {
      "name": "python"
    }
  },
  "cells": [
    {
      "cell_type": "code",
      "source": [
        "os.environ[\"OPENAI_API_KEY\"] = \"\"\n",
        "# OPENAI_API_KEY = \"\""
      ],
      "metadata": {
        "id": "jz_VtY3kpdkQ"
      },
      "execution_count": 2,
      "outputs": []
    },
    {
      "cell_type": "code",
      "source": [
        "! pip install faiss-cpu"
      ],
      "metadata": {
        "colab": {
          "base_uri": "https://localhost:8080/"
        },
        "id": "0M4cVOcsnOUv",
        "outputId": "f5ed050b-99f7-48ac-ef09-7a235ca60338"
      },
      "execution_count": 21,
      "outputs": [
        {
          "output_type": "stream",
          "name": "stdout",
          "text": [
            "Collecting faiss-cpu\n",
            "  Downloading faiss_cpu-1.7.4-cp310-cp310-manylinux_2_17_x86_64.manylinux2014_x86_64.whl (17.6 MB)\n",
            "\u001b[2K     \u001b[90m━━━━━━━━━━━━━━━━━━━━━━━━━━━━━━━━━━━━━━━━\u001b[0m \u001b[32m17.6/17.6 MB\u001b[0m \u001b[31m28.8 MB/s\u001b[0m eta \u001b[36m0:00:00\u001b[0m\n",
            "\u001b[?25hInstalling collected packages: faiss-cpu\n",
            "Successfully installed faiss-cpu-1.7.4\n"
          ]
        }
      ]
    },
    {
      "cell_type": "code",
      "source": [
        "from abc import ABC, abstractmethod\n",
        "from typing import List\n",
        "from langchain.schema import Document\n",
        "import openai\n",
        "import os\n",
        "from langchain.chains import RetrievalQA\n",
        "from langchain.llms import OpenAI\n",
        "from langchain.document_loaders import TextLoader\n",
        "from langchain.indexes import VectorstoreIndexCreator\n",
        "\n",
        "# used to create the retriever\n",
        "from langchain.text_splitter import CharacterTextSplitter\n",
        "from langchain.vectorstores import FAISS\n",
        "from langchain.embeddings import OpenAIEmbeddings\n",
        "\n",
        "# used to create the retriever\n",
        "from langchain.text_splitter import CharacterTextSplitter\n",
        "from langchain.vectorstores import FAISS\n",
        "from langchain.embeddings import OpenAIEmbeddings\n",
        "\n",
        "# used to create the retrieval tool\n",
        "from langchain.agents import tool\n",
        "\n",
        "# used to create the memory\n",
        "from langchain.memory import ConversationBufferMemory\n",
        "\n",
        "# used to create the agent executor\n",
        "from langchain.chat_models import ChatOpenAI\n",
        "from langchain.agents import AgentExecutor\n",
        "\n",
        "# used to create the prompt template\n",
        "from langchain.agents.openai_functions_agent.base import OpenAIFunctionsAgent\n",
        "from langchain.schema import SystemMessage\n",
        "from langchain.prompts import MessagesPlaceholder"
      ],
      "metadata": {
        "id": "y44FMZ6RsBer"
      },
      "execution_count": 33,
      "outputs": []
    },
    {
      "cell_type": "code",
      "source": [
        "os.environ[\"OPENAI_API_KEY\"] = \"\"\n",
        "# This is needed for both the memory and the prompt\n",
        "memory_key = \"history\""
      ],
      "metadata": {
        "id": "KJI1o-30qA67"
      },
      "execution_count": 30,
      "outputs": []
    },
    {
      "cell_type": "code",
      "source": [
        "loader = TextLoader('Data.txt', encoding='utf8')\n",
        "data = loader.load()"
      ],
      "metadata": {
        "id": "J9KgqFvqnuKD"
      },
      "execution_count": 12,
      "outputs": []
    },
    {
      "cell_type": "code",
      "source": [
        "text_splitter = CharacterTextSplitter(chunk_size=1000, chunk_overlap=200)\n",
        "texts = text_splitter.split_documents(data)"
      ],
      "metadata": {
        "id": "YqtF-NUrp5K5"
      },
      "execution_count": 15,
      "outputs": []
    },
    {
      "cell_type": "code",
      "source": [
        "embeddings = OpenAIEmbeddings()"
      ],
      "metadata": {
        "id": "U6SV2VrrpKRV"
      },
      "execution_count": 17,
      "outputs": []
    },
    {
      "cell_type": "code",
      "source": [
        "db = FAISS.from_documents(texts, embeddings)"
      ],
      "metadata": {
        "id": "O8msMzkWqJxm"
      },
      "execution_count": 22,
      "outputs": []
    },
    {
      "cell_type": "code",
      "source": [
        "retriever = db.as_retriever()"
      ],
      "metadata": {
        "id": "a6-BA9v2qNIt"
      },
      "execution_count": 23,
      "outputs": []
    },
    {
      "cell_type": "code",
      "source": [
        "@tool\n",
        "def tool(query):\n",
        "    \"Searches and returns documents regarding the llm powered autonomous agents blog\"\n",
        "    docs = retriever.get_relevant_documents(query)\n",
        "    return docs\n",
        "\n",
        "tools = [tool]"
      ],
      "metadata": {
        "id": "2JppAcIYqlRO"
      },
      "execution_count": 26,
      "outputs": []
    },
    {
      "cell_type": "code",
      "source": [
        "memory = ConversationBufferMemory(memory_key=memory_key, return_messages=True)"
      ],
      "metadata": {
        "id": "eAiaibiCqu-3"
      },
      "execution_count": 31,
      "outputs": []
    },
    {
      "cell_type": "code",
      "source": [
        "system_message = SystemMessage(\n",
        "        content=(\n",
        "            \"Ты помощник Ашана. Старайся отвечать на все поставленные вопросы. \"\n",
        "            \"Для этого в первую очередь используй предоставленные данные Ашана.\"\n",
        "        )\n",
        ")"
      ],
      "metadata": {
        "id": "ow8Acpnaq2LH"
      },
      "execution_count": 49,
      "outputs": []
    },
    {
      "cell_type": "code",
      "source": [
        "prompt = OpenAIFunctionsAgent.create_prompt(\n",
        "        system_message=system_message,\n",
        "        extra_prompt_messages=[MessagesPlaceholder(variable_name=memory_key)]\n",
        "    )"
      ],
      "metadata": {
        "id": "N96J8jTerjB8"
      },
      "execution_count": 50,
      "outputs": []
    },
    {
      "cell_type": "code",
      "source": [
        "llm = ChatOpenAI(temperature = 0)\n",
        "\n",
        "agent = OpenAIFunctionsAgent(llm=llm, tools=tools, prompt=prompt)"
      ],
      "metadata": {
        "id": "LTAwzOkMrqgR"
      },
      "execution_count": 51,
      "outputs": []
    },
    {
      "cell_type": "code",
      "source": [
        "agent_executor = AgentExecutor(agent=agent, tools=tools, memory=memory, verbose=True)"
      ],
      "metadata": {
        "id": "V8MRnf4Artpa"
      },
      "execution_count": 52,
      "outputs": []
    },
    {
      "cell_type": "markdown",
      "source": [
        "# Test"
      ],
      "metadata": {
        "id": "XHECbuqdr_Px"
      }
    },
    {
      "cell_type": "code",
      "source": [
        "result = agent_executor({\"input\": \"I'm 14\"})\n",
        "\n",
        "result[\"output\"]"
      ],
      "metadata": {
        "colab": {
          "base_uri": "https://localhost:8080/",
          "height": 145
        },
        "id": "c46uHW64runr",
        "outputId": "da585211-e9e3-476f-9cae-e7ffeb05b14e"
      },
      "execution_count": 59,
      "outputs": [
        {
          "output_type": "stream",
          "name": "stdout",
          "text": [
            "\n",
            "\n",
            "\u001b[1m> Entering new AgentExecutor chain...\u001b[0m\n",
            "\u001b[32;1m\u001b[1;3mHello, Michael! How can I assist you today? Is there something specific you would like to know or discuss?\u001b[0m\n",
            "\n",
            "\u001b[1m> Finished chain.\u001b[0m\n"
          ]
        },
        {
          "output_type": "execute_result",
          "data": {
            "text/plain": [
              "'Hello, Michael! How can I assist you today? Is there something specific you would like to know or discuss?'"
            ],
            "application/vnd.google.colaboratory.intrinsic+json": {
              "type": "string"
            }
          },
          "metadata": {},
          "execution_count": 59
        }
      ]
    },
    {
      "cell_type": "code",
      "source": [
        "result = agent_executor({\"input\": \"Сколько мне лет?\"})\n",
        "\n",
        "result[\"output\"]"
      ],
      "metadata": {
        "colab": {
          "base_uri": "https://localhost:8080/",
          "height": 145
        },
        "id": "Cq-D4b9TsEQU",
        "outputId": "ec3fa723-66c4-4e44-bde4-b596ddd1aab2"
      },
      "execution_count": 60,
      "outputs": [
        {
          "output_type": "stream",
          "name": "stdout",
          "text": [
            "\n",
            "\n",
            "\u001b[1m> Entering new AgentExecutor chain...\u001b[0m\n",
            "\u001b[32;1m\u001b[1;3mВы сказали, что вам 14 лет.\u001b[0m\n",
            "\n",
            "\u001b[1m> Finished chain.\u001b[0m\n"
          ]
        },
        {
          "output_type": "execute_result",
          "data": {
            "text/plain": [
              "'Вы сказали, что вам 14 лет.'"
            ],
            "application/vnd.google.colaboratory.intrinsic+json": {
              "type": "string"
            }
          },
          "metadata": {},
          "execution_count": 60
        }
      ]
    },
    {
      "cell_type": "code",
      "source": [
        "result = agent_executor({\"input\": \"В какое время работают магазины Ашана? Мне нужно точное время\"})\n",
        "\n",
        "result[\"output\"]"
      ],
      "metadata": {
        "colab": {
          "base_uri": "https://localhost:8080/",
          "height": 275
        },
        "id": "bbVrSMPdsL3b",
        "outputId": "23e65532-5a29-42c9-fe34-372a864c0648"
      },
      "execution_count": 55,
      "outputs": [
        {
          "output_type": "stream",
          "name": "stdout",
          "text": [
            "\n",
            "\n",
            "\u001b[1m> Entering new AgentExecutor chain...\u001b[0m\n",
            "\u001b[32;1m\u001b[1;3m\n",
            "Invoking: `tool` with `{'query': 'working hours of Ashan stores'}`\n",
            "\n",
            "\n",
            "\u001b[0m\u001b[36;1m\u001b[1;3m[Document(page_content='Могу ли я сделать заказ, если у меня нет карты лояльности?\\nЗаказ может оформить только владелец карты АШАН, зарегистрированный в личном кабинете на сайте или в мобильном приложении Мой АШАН. Как получить электронную карту и зарегистрировать личный кабинет можно посмотреть здесь.\\n\\nКак войти в свою учетную запись?\\nДля защиты ваших персональных данных и бонусного баланса авторизация теперь доступна только по номеру телефона.\\n\\nВведите номер телефона, который вы привязали к учетной записи и нажмите на экране «Получить код». Дождитесь смс с кодом и введите его в соответствующее поле.\\n\\nКак мне воспользоваться социальными привилегиями при заказе в интернет-магазине?\\nВам необходимо оформить социальный статус вашей карты лояльности. После того как подтвердится ее статус, укажите номер вашей карты при оформлении заказа в нашем интернет-магазине и получите социальный кешбэк (7% баллами на весь чек по будням до 12:00).\\nОформить социальный статус вашей карты лояльности можно здесь. (гиперссылка)', metadata={'source': 'Data.txt'}), Document(page_content='Вы доставляете алкоголь?\\nНет. Мы не доставляем алкоголь, так как это запрещено законом. Вы можете оформить заказ на самовывоз с данной категорий товара.\\n\\nКакое время получения заказа?\\nНа данный момент мы доставляем заказы в течение дня с 09:00 до 23:00.\\n\\nПочему слот недоступен?\\nСлот может быть недоступен из-за того, что на желаемое время было сделано максимальное количество заказов. Вам будут доступны менее загруженные временные промежутки.\\n\\nПочему по разным адресам доставки разная цена товара?\\nЦена на один и тот же товар от магазина к магазину может отличаться. Это зависит от расположения магазина, покупательского спроса, наличия рядом других торговых точек.\\n\\n Как мне добавить товары в свой заказ?\\nК сожалению, на данный момент нет возможности добавить товар в оплаченный заказ.', metadata={'source': 'Data.txt'}), Document(page_content='Как мне добавить товары в свой заказ?\\nК сожалению, на данный момент нет возможности добавить товар в оплаченный заказ.\\n\\n Могу ли я удалить товары из своего заказ?\\nДа. Мы можем удалить товары из вашего заказа до момента сборки. Как только заказ будет собран, вам поступит сообщение на электронную почту с чеком и бланком заказа с перечнем товаров.\\n\\nЯ могу объединить два своих заказа?\\nК сожалению, на данный момент объединение заказов недоступно.', metadata={'source': 'Data.txt'})]\u001b[0m\u001b[32;1m\u001b[1;3mМагазины Ашана имеют различное время работы в зависимости от конкретного магазина и его расположения. Обычно магазины Ашана открыты с утра до вечера, с понедельника по воскресенье. Однако, рекомендуется проверить рабочие часы конкретного магазина на официальном сайте Ашана или связаться с их службой поддержки для получения точной информации о времени работы выбранного вами магазина.\u001b[0m\n",
            "\n",
            "\u001b[1m> Finished chain.\u001b[0m\n"
          ]
        },
        {
          "output_type": "execute_result",
          "data": {
            "text/plain": [
              "'Магазины Ашана имеют различное время работы в зависимости от конкретного магазина и его расположения. Обычно магазины Ашана открыты с утра до вечера, с понедельника по воскресенье. Однако, рекомендуется проверить рабочие часы конкретного магазина на официальном сайте Ашана или связаться с их службой поддержки для получения точной информации о времени работы выбранного вами магазина.'"
            ],
            "application/vnd.google.colaboratory.intrinsic+json": {
              "type": "string"
            }
          },
          "metadata": {},
          "execution_count": 55
        }
      ]
    },
    {
      "cell_type": "code",
      "source": [
        "result = agent_executor({\"input\": \"Как мне воспользоваться социальными привилегиями при заказе в интернет-магазине?\"})\n",
        "\n",
        "result[\"output\"]"
      ],
      "metadata": {
        "colab": {
          "base_uri": "https://localhost:8080/",
          "height": 457
        },
        "id": "4kUDcMFBsZbl",
        "outputId": "268bb341-aa8c-473e-9583-8d0278295e81"
      },
      "execution_count": 57,
      "outputs": [
        {
          "output_type": "stream",
          "name": "stdout",
          "text": [
            "\n",
            "\n",
            "\u001b[1m> Entering new AgentExecutor chain...\u001b[0m\n",
            "\u001b[32;1m\u001b[1;3mДля использования социальных привилегий при заказе в интернет-магазине Ашана, вам может потребоваться выполнить следующие шаги:\n",
            "\n",
            "1. Зарегистрируйтесь на сайте Ашана или в их приложении, если у вас еще нет аккаунта.\n",
            "2. Проверьте, какие социальные привилегии доступны в вашем регионе и для вашей группы лиц (например, пенсионеры, инвалиды, многодетные семьи и т. д.).\n",
            "3. Убедитесь, что у вас есть необходимые документы или идентификационные данные, которые подтверждают вашу принадлежность к соответствующей группе лиц.\n",
            "4. При оформлении заказа в интернет-магазине Ашана, укажите свои социальные привилегии или выберите соответствующую опцию, если она доступна.\n",
            "5. При необходимости, предоставьте дополнительные документы или информацию, чтобы подтвердить вашу принадлежность к социальной группе.\n",
            "6. Проверьте, что социальные привилегии были применены к вашему заказу и отражены в итоговой стоимости или условиях доставки.\n",
            "7. Продолжайте оформление заказа и выберите удобный способ оплаты и доставки.\n",
            "8. Подтвердите заказ и дождитесь его обработки и доставки.\n",
            "\n",
            "Обратите внимание, что конкретные шаги и условия использования социальных привилегий могут различаться в зависимости от региона и политики Ашана. Рекомендуется обратиться к службе поддержки Ашана или посетить их официальный сайт, чтобы получить более подробную информацию и инструкции по использованию социальных привилегий при заказе в интернет-магазине.\u001b[0m\n",
            "\n",
            "\u001b[1m> Finished chain.\u001b[0m\n"
          ]
        },
        {
          "output_type": "execute_result",
          "data": {
            "text/plain": [
              "'Для использования социальных привилегий при заказе в интернет-магазине Ашана, вам может потребоваться выполнить следующие шаги:\\n\\n1. Зарегистрируйтесь на сайте Ашана или в их приложении, если у вас еще нет аккаунта.\\n2. Проверьте, какие социальные привилегии доступны в вашем регионе и для вашей группы лиц (например, пенсионеры, инвалиды, многодетные семьи и т. д.).\\n3. Убедитесь, что у вас есть необходимые документы или идентификационные данные, которые подтверждают вашу принадлежность к соответствующей группе лиц.\\n4. При оформлении заказа в интернет-магазине Ашана, укажите свои социальные привилегии или выберите соответствующую опцию, если она доступна.\\n5. При необходимости, предоставьте дополнительные документы или информацию, чтобы подтвердить вашу принадлежность к социальной группе.\\n6. Проверьте, что социальные привилегии были применены к вашему заказу и отражены в итоговой стоимости или условиях доставки.\\n7. Продолжайте оформление заказа и выберите удобный способ оплаты и доставки.\\n8. Подтвердите заказ и дождитесь его обработки и доставки.\\n\\nОбратите внимание, что конкретные шаги и условия использования социальных привилегий могут различаться в зависимости от региона и политики Ашана. Рекомендуется обратиться к службе поддержки Ашана или посетить их официальный сайт, чтобы получить более подробную информацию и инструкции по использованию социальных привилегий при заказе в интернет-магазине.'"
            ],
            "application/vnd.google.colaboratory.intrinsic+json": {
              "type": "string"
            }
          },
          "metadata": {},
          "execution_count": 57
        }
      ]
    },
    {
      "cell_type": "code",
      "source": [],
      "metadata": {
        "id": "AvsKw6hNsrzY"
      },
      "execution_count": null,
      "outputs": []
    }
  ]
}
